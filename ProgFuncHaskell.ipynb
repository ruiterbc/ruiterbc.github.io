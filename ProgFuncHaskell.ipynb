{
 "cells": [
  {
   "cell_type": "markdown",
   "metadata": {},
   "source": [
    "## Programação Funcional\n",
    "\n",
    "#### Indice\n",
    "\n",
    "1. [Expressões e Valores](#Expressoes)\n",
    "2. [Redução](#Reducao)\n",
    "3. [Tipos](#Tipos)\n",
    "4. [Funções e Definições](#FunDef)\n",
    "5. [Numeros Inteiros](#NumInt)\n",
    "6. [Definição de Funções Simples](#FunSimpl)\n",
    "7. [Números Reais](#NumReal)\n",
    "8. [Valores Relacionais e Lógicos](#ValReLog)\n"
   ]
  },
  {
   "cell_type": "markdown",
   "metadata": {},
   "source": [
    "## Programação Funcional (Haskell)"
   ]
  },
  {
   "cell_type": "markdown",
   "metadata": {},
   "source": [
    "Como o nome sugere, a essência da **Programação Funcional (PF)** como método de programação é a construção de funções. A utilização da palavra *função* é mais no sentido matemático do que no sentido utilizado nas linguagens de programação convencionais. Na matemática, uma função é um objeto que devolve uma lista de todas as variáveis para as quais ele varia, onde o resultado é construido por meio de uma fórmula (*algoritmo*) que calcula o valor correspondente. Assim, por exemplo, se escrevermos: *y = x^2* dizemos que *y* é função de *x* pois, quando *x* varia, *y* também varia como seu quadrado.\n",
    "\n",
    "A Programação Funcional envolve notação e conceitos de classes ou conjuntos que soam familiares a qualquer pessoa com pequena experiência matemática. O principal papel do programador é construir uma função para resolver um determinado problema. Essa função, que pode envolver outras funções, é expressa numa notação que obedece aos princípios matemáticos.\n",
    "\n",
    "Essas funções definidas pelo programador são chamadas em P.F. de **scripts**.\n",
    "\n",
    "O papel do computador é agir como um avaliador ou executor de expressões e impressor dos resultados.\n",
    "\n",
    "A expressão representa um valor a ser obtido, cuja tarefa o computador é capaz de realizar.\n",
    "\n",
    "A forma básica de interação entre o programador e o computador é:\n",
    "```\n",
    "Lê -> Calcula -> Exibe\n",
    "```\n",
    "A seqüência de interação entre o programador e o computador é chamada de **seção**.\n",
    "\n",
    "O ambiente de interação utilizado neste curso será o ambiente:\n",
    "\n",
    "Cabe observar que algumas características conceituais presentes em programação funcional podem não ter uma representações direta nas linguagens. A linguagem Haskell incorpora a maioria dos conceitos.\n",
    "\n",
    "Uma propriedade característica da P.F. é que uma expressão possui um valor bem definido, não importando a **ordem** da avaliação pelo computador. O significado de uma expressão é o seu **valor** e a tarefa do computador é encontrá-lo. Por exemplo o valor da expressão 6 * 7 é 42. \n",
    "Nos exemplos, a entrada fornecida pelo usuário por meio da interface interativa do Haskell será apresentada pelo sinal \">\"."
   ]
  },
  {
   "cell_type": "markdown",
   "metadata": {},
   "source": [
    "A seqüência de interação entre o programador e o computador é chamada de seção. O ambiente de interação utilizado neste curso será o ambiente: JUPYTER que é um ambiente de execução para a linguagem de programação Haskell. A qual possue várias caracterísiticas incorporadas do estilo de programação Funcional. Uma propriedade característica da P.F. é que uma expressão possui um valor bem definido, não importando a ordem da avaliação pelo computador. O significado de uma expressão é o seu valor, e a tarefa do computador é encontrá-lo. Por exemplo o valor da expressão 6 * 7 é 42:"
   ]
  },
  {
   "cell_type": "code",
   "execution_count": null,
   "metadata": {},
   "outputs": [],
   "source": [
    "6*7"
   ]
  },
  {
   "cell_type": "markdown",
   "metadata": {},
   "source": [
    "Os scripts são na verdade uma lista de definições de funções, feitas pelo programador e gravado em arquivos com **\\<nome do arquivo\\>.hs** para a linguagem Haskell e **\\<nome do arquivo\\>.py** para a linguagem Python, que devem ser carregados no ambiente interativo da linguagem para a sua execução. \n",
    "\n",
    "A instalação dos ambientes das linguagens não será tratada neste texto.\n",
    "\n",
    "Exemplos de definições de funções:"
   ]
  },
  {
   "cell_type": "code",
   "execution_count": null,
   "metadata": {},
   "outputs": [],
   "source": [
    "quadrado n = n * n\n",
    "\n",
    "menor n m \n",
    "    | n <= m = n \n",
    "    | otherwise = m"
   ]
  },
  {
   "cell_type": "markdown",
   "metadata": {},
   "source": [
    "O propósito da definição de uma função é fazer uma associação entre um nome e um valor.\n",
    "\n",
    "Um conjunto de associações entre nomes e seus valores é chamado de **contexto** ou **ambiente**. A interação do usuário com o ambiente de execução da linguagem é chamado de **seção**. Um exemplo de uma seção:"
   ]
  },
  {
   "cell_type": "code",
   "execution_count": null,
   "metadata": {},
   "outputs": [],
   "source": [
    "quadrado 3 + 4"
   ]
  },
  {
   "cell_type": "code",
   "execution_count": null,
   "metadata": {},
   "outputs": [],
   "source": [
    "menor 3 4"
   ]
  },
  {
   "cell_type": "code",
   "execution_count": null,
   "metadata": {},
   "outputs": [],
   "source": [
    "quadrado ( menor 3 4 )"
   ]
  },
  {
   "cell_type": "markdown",
   "metadata": {},
   "source": [
    "O avaliador pode utilizar as associações para fazer simplificações. Algumas expressões podem ser avaliadas sem que seja indicado o contexto: 3 + 4.\n",
    "\n",
    "Isto só é possível porque algumas operações são consideradas primitivas e fazem parte do contexto inicial do avaliador(chamado Prelude em Haskell). As Operações Aritméticas (+, *, -, /, etc.) e fornecimento de Operações Pré-definidas (mod, div, even, odd, etc.) são exemplos do contexto inicial das linguagens.\n",
    "\n",
    "Os scripts podem ser modificados a qualquer momento, submetidos ao avaliador e um novo contexto será iniciado. Podemos anexar ao script definido anteriormente as novas definições:"
   ]
  },
  {
   "cell_type": "code",
   "execution_count": null,
   "metadata": {},
   "outputs": [],
   "source": [
    "lado =  12\n",
    "\n",
    "area = quadrado lado"
   ]
  },
  {
   "cell_type": "code",
   "execution_count": null,
   "metadata": {},
   "outputs": [],
   "source": [
    "menor (area + 4) 150"
   ]
  },
  {
   "cell_type": "markdown",
   "metadata": {},
   "source": [
    "### [Expressões e Valores]()<a name=\"Expressoes\"></a>\n",
    "**Expressão** é uma noção fundamental em P.F. Existem muitos tipos de expressões e nem todas podem ser descritas neste formalismo, mas todas possuem características comuns.\n",
    "\n",
    "A característica mais importante da notação matemática é que uma **expressão** é usada somente para descrever (ou denotar) um **valor**.\n",
    "\n",
    "O significado de uma expressão é o seu valor e mais nada. O valor de uma expressão depende somente dos valores dos seus constituintes e, essas subexpressões, podem ser substituídas pelos seus valores.\n",
    "\n",
    "Uma expressão pode conter **\"nomes\"** para quantidades desconhecidas, embora seja comum na matemática entendermos que diferentes ocorrências do mesmo nome se referem ao mesmo valor, embora desconhecido.\n",
    "\n",
    "Estes nomes são chamados **\"variáveis\"**, mas estas variáveis não variam como nas linguagens de programação convencionais, pois elas sempre denotam o mesmo valor. A esta propriedade chamamos de **Transparência Referencial**.\n",
    "\n",
    "Entre os tipos de valores que uma variável pode denotar encontram-se: números(Inteiros ou Reais), valores-verdade(Booleanos), caracteres, tuplas(Pares), funções e listas.\n",
    "\n",
    "### [Redução]()<a name=\"Reducao\"></a>\n",
    "O computador avaliar as expressões pela redução da expressão para a sua **\"forma equivalente mais simples\"** e imprime o resultado.\n",
    "**Avaliação**, **Redução** ou **Simplificação** são intercambiáveis. Utilizaremos o símbolo **\"=>\"** para indicar **\"reduzido a\"**.\n",
    "\n",
    "Como exemplo vamos mostrar as possíveis reduções para a expressão: Quadrado ( 3 + 4), onde a definição de Quadrado é como segue:"
   ]
  },
  {
   "cell_type": "markdown",
   "metadata": {},
   "source": [
    "```\n",
    "Quadrado x => x * x\n",
    "```\n",
    "Redução-1:\n",
    "```\n",
    "Quadrado ( 3 + 4)   => Quadrado 7   (+)\n",
    "                    => 7 * 7        (Quadrado)\n",
    "                    => 49           (*)\n",
    "```\n",
    "Redução-2:\n",
    "```\n",
    "Quadrado ( 3 + 4)   => (3 + 4) * (3 + 4)    (Quadrado)\n",
    "                    => 7 * (3 + 4)          (+)\n",
    "                    => 7 * 7                (+)\n",
    "                    => 49                   (*)\n",
    "```"
   ]
  },
  {
   "cell_type": "markdown",
   "metadata": {},
   "source": [
    "Nestes exemplos os símbolos entre parênteses indicam a operação que foi utilizada para fazer a redução (ou transformação). Quando uma expressão não pode mais ser reduzida então ela é impressa.\n",
    "No primeiro exemplo a ordem de aplicação das reduções foram: (+), (Quadrado), (\\*). \n",
    "No segundo exemplo a ordem foi : (Quadrado), (+), (+), (\\*). Assim a primeira opção gastou um número menor de reduções que a segunda. \n",
    "\n",
    "É importante fazer a distinção entre um valor e sua representação através de expressões.  A forma equivalente mais simples não é o valor,  mas, a sua representação.\n",
    "Existem muitas representações de um mesmo valor, por exemplo o valor: \"quarenta e nove\", pode  ter as seguintes representações:"
   ]
  },
  {
   "cell_type": "markdown",
   "metadata": {},
   "source": [
    "```\n",
    "decimal         = 49\n",
    "romano          = XLIX\n",
    "Expressão       = 7 * 7\n",
    "binário 16 bits = 0000000000110001\n",
    "```"
   ]
  },
  {
   "cell_type": "markdown",
   "metadata": {},
   "source": [
    "Uma expressão está na **forma canônica** ou **forma normal** se ela não pode mais ser reduzida.\n",
    "Alguns valores não possuem representação canônica e outros não possuem representação finita. Ex. O número **PI** não possui representação decimal finita.\n",
    "Algumas expressões não podem ser reduzidas porque elas não denotam valores bem definidos no sentido matemático.\n",
    "```\n",
    "Ex. Uma divisão de um número qualquer por zero, 1/0. \n",
    "```\n",
    "Uma tentativa de avaliar esta expressão pode ocasionar um erro ou cair numa seqüência muito longa sem produzir resultados.\n",
    "Para manter a condição de que toda expressão deve denotar um valor, é conveniente introduzir um símbolo para representar o valor indefinido: **\"NIL\"**"
   ]
  },
  {
   "cell_type": "markdown",
   "metadata": {},
   "source": [
    "### [Tipos]()<a name=\"Tipos\"></a>\n",
    "Na notação que iremos seguir, o universo de valores é particionado em coleções organizadas chamadas tipos. \n",
    "Os tipos podem ser:\n",
    "- **Básicos**, cujos valores são chamados de primitivos. Os números, os valores booleanos e os caracteres.\n",
    "- **Derivados**, cujos valores são construídos de outros tipos. O tipo par ou tupla: (tipo-1, tipo-2), onde \"tipo-1\" e \"tipo-2\" são os tipos que formam o par; ou a o tipo lista, cujo definição é : [ tipo ], que pode ser uma sequência de qualquer tipo definido.\n",
    "\n",
    "Uma operação é efetuada na forma tradicional:\n",
    "```\n",
    "<operando>  <operador> <operando>\n",
    "1 + 1\n",
    "2 * 3\n",
    "5 div 6\n",
    "```\n",
    "Uma expressão bem formada possui o seu tipo deduzido a partir dos tipos dos seus constituintes. A este princípio chamamos **\"Tipagem Forte\"**. \n",
    "\n",
    "A maior conseqüência da disciplina imposta pelo conceito de tipagem forte é que uma expressão que não possa ter o seu tipo identificada não é bem formada e será rejeitada antes de ser avaliada."
   ]
  },
  {
   "cell_type": "code",
   "execution_count": 16,
   "metadata": {},
   "outputs": [],
   "source": [
    "ay x =  'A'   "
   ]
  },
  {
   "cell_type": "markdown",
   "metadata": {},
   "source": [
    "Para qualquer x, a resposta será constante e igual a 'A', sendo o tipo inferido \"CHAR\"."
   ]
  },
  {
   "cell_type": "code",
   "execution_count": 15,
   "metadata": {},
   "outputs": [
    {
     "ename": "",
     "evalue": "",
     "output_type": "error",
     "traceback": [
      "<interactive>:1:10: error:\n    • No instance for (Num Char) arising from a use of ‘+’\n    • In the expression: x + ay x\n      In an equation for ‘bee’: bee x = x + ay x"
     ]
    }
   ],
   "source": [
    "bee x  = x + ay x  "
   ]
  },
  {
   "cell_type": "markdown",
   "metadata": {},
   "source": [
    "\n",
    "Ao identificado o tipo da função *bee*, há uma tentativa de somar o resultado de *ay* que é \"CHAR\", ocorrendo um erro de tipo. \n",
    "\n",
    "Existem dois estágios de avaliação para uma expressão : análise sintática e análise de tipo.\n",
    "\n"
   ]
  },
  {
   "cell_type": "markdown",
   "metadata": {},
   "source": [
    "### [Funções e Definições]()<a name=\"FunDef\"></a>\n",
    "\n",
    "Uma **função** é uma regra de correspondência que associa cada elemento de um tipo A com um único elemento de um segundo tipo B. O tipo A é chamado tipo **fonte** e o tipo B de tipo **alvo**.\n",
    "```\n",
    "*f* :: A -> B\n",
    "```\n",
    "O tipo de *f* é A->B , caso A e B tenham tipo. A função *f* toma argumentos em A e retorna resultados em B. Se *x* é um elemento de A, *f(x)* ou *f x* denota a aplicação de *f* para x.\n",
    "\n",
    "O valor resultante da aplicação da função é o **único elemento** em B associado com x pela aplicação da regra de correspondência *f*.\n",
    "\n",
    "É importante separa a função da sua aplicação para um argumento. Em alguns textos matemáticos encontramos \"a função *f*(x)\" , quando o correto seria dizer a \"função *f*\" .Em tais textos função raramente são consideradas como argumentos para outras funções.\n",
    "\n",
    "Em Programação Funcional, funções são **valores como outro qualquer**, e podem ser passados como **argumentos para outras funções**.\n",
    "\n",
    "É importante manter em mente a distinção entre um valor da função e uma particular definição dela. Existem muitas definições possíveis para a mesma função:"
   ]
  },
  {
   "cell_type": "code",
   "execution_count": 27,
   "metadata": {},
   "outputs": [],
   "source": [
    "dobro1 x = x + x\n",
    "\n",
    "dobro2 x = 2 * x"
   ]
  },
  {
   "cell_type": "markdown",
   "metadata": {},
   "source": [
    "Apesar dos procedimentos diferentes para obter a correspondência entre o argumento e o resultado, as funções **dobro1** e **dobro2** denotam a mesma função e podemos afirmar que, \"dobro1 = dobro2\" é matematicamente verdade.\n",
    "\n",
    "Dependendo do procedimento escolhido uma definição pode ser mais ou menos eficiente, no sentido de que as reduções de uma implementação podem ser menores , portanto mais rápida, que de uma outra."
   ]
  },
  {
   "cell_type": "markdown",
   "metadata": {},
   "source": [
    "\n",
    "### [Números Inteiros]()<a name=\"NumInt\"></a>\n",
    "\n",
    "Em Programação Funcional, há dois tipos básicos de números: os números inteiros(Int) e os números reais(Float). Cada linguagem usa um identificador própio para nomear seus tipos, portanto é necessário descobrir qual o nome utilizado pela linguagem que será usada, por exemplo os inteiros são denominados **Int** em Haskell e **int** em Python. Essas linguagem possuem outras denominações com faixas maiores para estes tipos de números. \n",
    "\n",
    "#### Operadores\n",
    "Os **Operadores Aritméticos** são os símbolos que representam certas transformações entre um número ou um grupo deles. \n",
    "\n",
    "Os símbolos dos operadores aritméticos utilizados na programação funcional para inteiros, são os mesmos utilizados na matemática. \n",
    "\n",
    "Abaixo é apresentada uma tabela com os principais operadores para inteiros e suas respectivas denominações, além das respectivas representações nas duas linguagens, (H)-Haskell e (P)-Python que serão apresentados apenas se houver diferença, ou (X) se não há função definida pela linguagem:\n",
    "\n",
    "|operador | denominação|H|P|\n",
    "|---------|------------|-------|------|\n",
    "| + | adição|\n",
    "| - | subtração |\n",
    "| * | multiplicação|\n",
    "| / | divisão |\n",
    "| ^ | exponenciação | | **|\n",
    "| div| divisão inteira | |//|\n",
    "| mod | resto inteiro | | %|\n",
    "| even | é  par | |X|\n",
    "| odd | é ímpar | |X|\n",
    "\n",
    "#### Expressões\n",
    "As Expressões Aritméticas podem ser aplicadas juntas numa única expressão aritméticas para gerar um valor. \n",
    "\n",
    "Quando várias operações aparecem juntas na expressão, certas regras de precedência são providenciadas para resolver possíveis ambiguidades. \n",
    "\n",
    "A precedência das regras para operadores aritméticos, segue a seguinte ordem de cima para baixo na tabela:\n",
    "\n",
    "| operador | denominação|H|P|\n",
    "|----------|------------|-|-|\n",
    "| ^ | exponenciação ||**|\n",
    "|* , / , div , mod | operadores de multiplicação ||* , / , // , %|\n",
    "|+ , - | operadores de adição|||\n",
    "\n",
    "  \n",
    "\n",
    "Quando os operadores surgem numa expressão com o mesmo nível de precedência, é aconselhável usar parenteses para evitar ambiguidades.\n",
    "\n",
    "Na PF as expressões são escrita como na matemática elementar, ou seja:\n",
    "\n"
   ]
  },
  {
   "cell_type": "code",
   "execution_count": 18,
   "metadata": {},
   "outputs": [
    {
     "data": {
      "text/plain": [
       "0.5925925925925926"
      ]
     },
     "metadata": {},
     "output_type": "display_data"
    }
   ],
   "source": [
    "((3 + 5) * 6) / (9 ^ 2)"
   ]
  },
  {
   "cell_type": "markdown",
   "metadata": {},
   "source": [
    "#### Intervalos\n",
    "Os Intervalos podem ser vistos como uma série de números gerados a partir de uma definição matemática, ou seja, um conjunto de elementos enumerados.\n",
    "\n",
    "Se quisermos os números inteiros de 1 a 10, basta escrevermos estes dois números entre colchetes, separados por dois pontos seguidos. Assim temos **[1..10]** indicando que queremos um conjunto de números inteiros. Os números gerados, podem ser vistos como uma *lista* de números inteiros.Os números 1 e 10 são chamados de **limitadores**. Podemos colocar quaisquer limitadores desde que sejam números inteiros.\n",
    "\n",
    "A maneira de escrever intervalos é na forma **[a..b]**, onde **a** e **b** são números inteiros, indicando que haverá uma lista de números inteiros incrementados na ordem de **a** para **b**,aumentando de 1 em 1. \n",
    "\n",
    "Se o valor de *a > b*, então o resultado será uma lista sem números, ou seja, uma **lista vazia**.\n",
    "\n",
    "Exemplos de intervalos em programação funcional :\n",
    "\n"
   ]
  },
  {
   "cell_type": "code",
   "execution_count": 19,
   "metadata": {},
   "outputs": [
    {
     "data": {
      "text/plain": [
       "[1,3,5,7,9]"
      ]
     },
     "metadata": {},
     "output_type": "display_data"
    }
   ],
   "source": [
    "[1,3..9]"
   ]
  },
  {
   "cell_type": "code",
   "execution_count": 20,
   "metadata": {},
   "outputs": [
    {
     "data": {
      "text/plain": [
       "[1,2,3]"
      ]
     },
     "metadata": {},
     "output_type": "display_data"
    }
   ],
   "source": [
    "[1..3]"
   ]
  },
  {
   "cell_type": "code",
   "execution_count": 21,
   "metadata": {},
   "outputs": [
    {
     "data": {
      "text/plain": [
       "[0,2,4,6,8]"
      ]
     },
     "metadata": {},
     "output_type": "display_data"
    }
   ],
   "source": [
    "[0,2..8]"
   ]
  },
  {
   "cell_type": "code",
   "execution_count": 22,
   "metadata": {},
   "outputs": [
    {
     "data": {
      "text/plain": [
       "[0,1,2,3,4,5,6,7,8,9]"
      ]
     },
     "metadata": {},
     "output_type": "display_data"
    }
   ],
   "source": [
    "[0..9]"
   ]
  },
  {
   "cell_type": "markdown",
   "metadata": {},
   "source": [
    "Na linguagem Python, temos que usar a função **range** para a definição de **Intervalos**, com a seguinte definição:**range([inicio], final [, incremento])** os valor limitados por colchetes( \\[ , \\] ) são opcionais, o valor final não fará parte da lista (Intervalo Aberto). Para a impressão do intervalo usamos a função **print**, passando como parâmero a construção do intervalo.\n",
    "\n"
   ]
  },
  {
   "cell_type": "markdown",
   "metadata": {},
   "source": [
    "Uma outra maneira de escrever intervalos é na forma **[a,b..c]**, que indica uma progressão aritmética **a,a+d,a+2*d,...,** e assim por diante, onde **d = b - a**.\n",
    "\n",
    "#### Tuplas\n",
    "As Tuplas são vistas como uma combinação de elementos com o objetivo de formar novos elementos, pelos pares de elementos formados.\n",
    "\n",
    "Se quisermos ter dois números agrupados, formando um par, basta os colocar entre parenteses separados por virgula, ou seja, (1,2). \n",
    "\n",
    "Isto significa uma tupla, formada pelo par de números inteiros (Int,Int).\n",
    "\n",
    "Como podemos observar as tuplas são definidas por elementos entre parenteses, com isso as tuplas podem possuir vários elementos, \n",
    "\n",
    "na forma **(x1,x2,...xn)** onde cada elemento pode ser uma expressão **x1,x2,...,xn** e possuindo os tipos **t1,t2,...,tn**, respectivamente. \n",
    "\n",
    "No exemplo acima, os tipos são inteiros.\n",
    "\n",
    "Para formar os elementos da tupla podemos nos valer de expressões aritméticas como:\n",
    "\n"
   ]
  },
  {
   "cell_type": "code",
   "execution_count": 24,
   "metadata": {},
   "outputs": [
    {
     "data": {
      "text/plain": [
       "(6,2)"
      ]
     },
     "metadata": {},
     "output_type": "display_data"
    }
   ],
   "source": [
    "(4+2,3-1)"
   ]
  },
  {
   "cell_type": "code",
   "execution_count": 23,
   "metadata": {},
   "outputs": [
    {
     "data": {
      "text/plain": [
       "([2,3,4],2)"
      ]
     },
     "metadata": {},
     "output_type": "display_data"
    }
   ],
   "source": [
    "([2,3,4],3-1)"
   ]
  },
  {
   "cell_type": "markdown",
   "metadata": {},
   "source": [
    "### [Definição de Funções Simples]()<a name=\"FunSimpl\"></a>\n",
    "O ambiente da PF pode ser visto como uma calculadora bastante atraente que possui algumas funções e operadores embutidos. \n",
    "\n",
    "Porém, para resolver problemas mais sofisticados e que atenda a determinados requisitos, necessitamos definir novas funções para a resolução do problema. \n",
    "\n",
    "Essas funções seguem a definição matemática onde **f x -> y**.\n",
    "\n",
    "Podemos definir uma função para somar dois números inteiros, escrevendo **soma x y = x + y**, onde x e y são parâmetros que recebem diferentes valores, para obter o resultado da função.\n",
    "\n",
    "As linguagens possuem alguma funções pré-definidas como por exemplo, em Haskell a função **sum** que calcula o somatório e **product** que calcula o produtório. \n",
    "\n",
    "A sintaxe dessas funções é colocar a função na frente de um intervalo de números inteiros, ou seja, **sum [1..10]** gerando o valor 55.\n",
    "\n",
    "Atributos Locais\n",
    "As definições de funções podem incluir definições de valores com definição local. \n",
    "\n",
    "Nas descrições matemáticas frequentemente achamos expressões qualificadas pela palavra *\"onde\"* (where em inglês). \n",
    "\n",
    "Como exemplo observe a seguinte função :"
   ]
  },
  {
   "cell_type": "markdown",
   "metadata": {},
   "source": [
    "```\n",
    "              f(x,y) = (a+1) * (a+2),  onde a = (x+y)/2.\n",
    "```              "
   ]
  },
  {
   "cell_type": "markdown",
   "metadata": {},
   "source": [
    "O mesmo dispositivo pode ser utilizado nas definições de atribuições locais para funções:"
   ]
  },
  {
   "cell_type": "code",
   "execution_count": 32,
   "metadata": {},
   "outputs": [],
   "source": [
    "f x y = (a + 1) * (a + 2)\n",
    "        where a = (x + y) / 2     "
   ]
  },
  {
   "cell_type": "markdown",
   "metadata": {},
   "source": [
    "O sinal \"=\" é usada no corpo da função para introduzir uma definição local. É importante notar que a definição é deslocada a direita para enfatizar seu uso como parte da função."
   ]
  },
  {
   "cell_type": "code",
   "execution_count": 31,
   "metadata": {},
   "outputs": [
    {
     "data": {
      "text/plain": [
       "20.0"
      ]
     },
     "metadata": {},
     "output_type": "display_data"
    }
   ],
   "source": [
    "f 3 3"
   ]
  },
  {
   "cell_type": "markdown",
   "metadata": {},
   "source": [
    "#### Operadores e Funções\n",
    "Os operadores e funções possuem diferenças, quanto ao seu posicionamento entre os parâmetros em PF. Os operadores sempre tratam com dois argumentos, ou seja, sua avaliação sempre requisitará somente dois elementos, sendo por este motivo também chamados de **operadores binários**.\n",
    "\n",
    "A função, pode receber desde nenhum argumento, até um número conveniente para o problema a ser solucionado. Pode-se afirmar que a grande diferença entre operadores e funções, está na forma de escreve-los junto aos seus argumentos.\n",
    "\n",
    "Quanto ao posicionamento entre os argumentos, os operadores são colocados entre os seus dois operandos e as funções são frequentemente colocadas antes dos seus parâmetros.\n",
    "\n",
    "Para executar a adição entre dois números com o operador \"+\" temos, 2 + 2. Com a função definida como soma, temos soma 2 2."
   ]
  },
  {
   "cell_type": "markdown",
   "metadata": {},
   "source": [
    "### [Números Reais]()<a name=\"NumReal\">\n",
    "Os números reais são muitas vezes conhecidos por *fracionais* e também por *ponto flutuante*. Em PF são denominados pelo tipo **Float**.\n",
    "\n",
    "Um valor numérico somente será tratado como número de ponto flutuante se ele possuir o ponto decimal como por exemplo o número 3.14159.\n",
    "\n",
    "As operações aritméticas básicas definidas sobre os inteiros, + , - , *, /, também estão definidas para os reais. \n",
    "\n",
    "Porém não há resto de divisão e a operação de exponenciação na forma , *Float -> Int -> Float*, elevando reais a inteiros. \n",
    "\n",
    "Abaixo mostramos a tabela dos operadores principais para números reais:\n",
    "\n",
    "|Operador | Denominação|\n",
    "|---------|------------|\n",
    "|+|adição|\n",
    "|-|subtração|\n",
    "|*|multiplicação|\n",
    "|/|divisão|\n",
    "|^|exponenciação|\n",
    "|sqrt|raiz quadrada|\n",
    "\n",
    "É importante salientar que não é possível usar os operadores aritméticos com tipos diferentes, ou seja, não podemos somar 2 com 2.0. \n",
    "\n",
    "Experimente executar esta operação no ambiente de excução: 2 + 2.0\n",
    "\n",
    "Como nos números inteiros as expressões aritméticas podem ser vistas como uma série de operações aritméticas, efetuadas para gerar um valor. \n",
    "\n",
    "Também as regras de precedência são providenciadas para resolver possíveis ambiguidades. \n",
    "\n",
    "A precedência das regras para operadores aritméticos, segue a seguinte ordem :\n",
    "\n",
    "|Operador|Denominação|H|P|\n",
    "|--------|-----------|-|-|\n",
    "|^|exponenciação||**|\n",
    "|sqrt|raiz quadrada|||\n",
    "|* , / |operadores de multiplicação e divisão|||\n",
    "|+ , - |operadores de adição e subtração|||\n",
    "\n",
    "Quando os operadores surgem numa expressão com o mesmo nível de precedência, é aconselhável usar parenteses para evitar ambiguidades.\n",
    "\n",
    "Na PF as expressões são escritas como na matemática elementar, ou seja, *((3.0 + 5.0) * 6.0) / (9.0 ^ 2)* e assim por diante. Teste a expressão acima sem os parenteses no ambiente de programação.\n",
    "\n",
    "\n",
    "#### Intervalos\n",
    "A definição de intervalos é a mesma de intervalos para números inteiros. Porém os limitadores e os elementos gerados, são números reais.\n",
    "\n",
    "A maneira de escrever intervalos na forma [a..b], onde a e b são números reais, indicando que haverá uma lista de números reais incrementados na ordem de a para b, aumentando na mesma proporção do primeiro limitador até chegar no segundo limitador. Se a > b, então o resultado será uma lista sem números, uma lista vazia.\n",
    "\n",
    "Teste os seguintes exemplos: "
   ]
  },
  {
   "cell_type": "code",
   "execution_count": 33,
   "metadata": {},
   "outputs": [
    {
     "data": {
      "text/plain": [
       "[1.1,2.1,3.1]"
      ]
     },
     "metadata": {},
     "output_type": "display_data"
    }
   ],
   "source": [
    "[1.1..3.1]"
   ]
  },
  {
   "cell_type": "code",
   "execution_count": 34,
   "metadata": {},
   "outputs": [
    {
     "data": {
      "text/plain": [
       "[1.1,2.1,3.1]"
      ]
     },
     "metadata": {},
     "output_type": "display_data"
    }
   ],
   "source": [
    "[1.1..3.2]"
   ]
  },
  {
   "cell_type": "code",
   "execution_count": 35,
   "metadata": {},
   "outputs": [
    {
     "data": {
      "text/plain": [
       "[1.1,2.1,3.1,4.1,5.1,6.1,7.1,8.1,9.1]"
      ]
     },
     "metadata": {},
     "output_type": "display_data"
    }
   ],
   "source": [
    "[1.1..9.3]"
   ]
  },
  {
   "cell_type": "code",
   "execution_count": 36,
   "metadata": {},
   "outputs": [
    {
     "data": {
      "text/plain": [
       "[]"
      ]
     },
     "metadata": {},
     "output_type": "display_data"
    }
   ],
   "source": [
    "[9.0..1.0]"
   ]
  },
  {
   "cell_type": "markdown",
   "metadata": {},
   "source": [
    "A outra maneira de escrever intervalos na forma **[a,b..c]**, indica uma progressão aritmética **a,a+d,a+2*d,...,** e assim por diante, onde d = b - a.\n",
    "\n",
    "Teste o seguinte exemplos: "
   ]
  },
  {
   "cell_type": "code",
   "execution_count": 37,
   "metadata": {},
   "outputs": [
    {
     "data": {
      "text/plain": [
       "[1.1,1.2,1.2999999999999998,1.3999999999999997,1.4999999999999996,1.5999999999999994,1.6999999999999993,1.7999999999999992,1.899999999999999,1.999999999999999,2.0999999999999988,2.1999999999999984,2.2999999999999985,2.3999999999999986,2.4999999999999982,2.599999999999998,2.699999999999998,2.799999999999998,2.8999999999999977,2.9999999999999973,3.0999999999999974]"
      ]
     },
     "metadata": {},
     "output_type": "display_data"
    }
   ],
   "source": [
    "[1.1,1.2..3.1]"
   ]
  },
  {
   "cell_type": "markdown",
   "metadata": {},
   "source": [
    "#### Tuplas\n",
    "As tuplas são elementos formados por combinação de elementos. Conforme o número de elementos que a tupla possui, ela passa a ser chamada de **n-upla**. \n",
    "\n",
    "Geralmente não estamos interessados em trabalhar com 1-upla, e sim com duplas, triplas, etc.\n",
    "\n",
    "As tuplas possuem vários elementos que não necessariamente pertencem ao mesmo domínio (tipo). Assim como definimos uma tupla (1,1) de tipo (Int,Int), podemos definir uma tupla *(1.0,1.0)* de tipo *(Float,Float)*, e uma tupla *(1.0,1)* de tipo *(Float,Int)*.\n",
    "\n",
    "Podemos também usar expressões aritméticas e intervalos para fazerem parte de uma tupla, como por exemplo, **([1.1..3.1],[1,3..9])**, gerando a tupla **([1.1,2.1,3.1],[1,3,5,7,9])**.\n",
    "\n",
    "Existem duas funções muito usadas para trabalhar com tuplas, são elas **fst** que pega o primeiro elemento da tupla e **snd** que pega o segundo elemento da tupla. \n",
    "\n",
    "A sintaxe é a função antes da tupla, assim, **fst (2.3,4)** gera o valor **2.3**\n",
    "\n"
   ]
  },
  {
   "cell_type": "code",
   "execution_count": 44,
   "metadata": {},
   "outputs": [
    {
     "data": {
      "text/plain": [
       "2.3"
      ]
     },
     "metadata": {},
     "output_type": "display_data"
    }
   ],
   "source": [
    "fst (2.3,4)"
   ]
  },
  {
   "cell_type": "code",
   "execution_count": 45,
   "metadata": {},
   "outputs": [
    {
     "data": {
      "text/plain": [
       "4"
      ]
     },
     "metadata": {},
     "output_type": "display_data"
    }
   ],
   "source": [
    "snd (2.3,4)"
   ]
  },
  {
   "cell_type": "markdown",
   "metadata": {},
   "source": [
    "Já sabemos como definir funções simples, agora podemos definir novas funções para trabalhar com reais e tuplas. Para calcular a área de um círculo, definimos a seguinte função:"
   ]
  },
  {
   "cell_type": "code",
   "execution_count": 38,
   "metadata": {},
   "outputs": [],
   "source": [
    "areacirc r = const * r ^ 2\n",
    "                 where const = 3.14"
   ]
  },
  {
   "cell_type": "markdown",
   "metadata": {},
   "source": [
    "```\n",
    "Calculo da área do circulo de raio = 5\n",
    "```"
   ]
  },
  {
   "cell_type": "markdown",
   "metadata": {},
   "source": [
    "### [Valores Relacionais e Lógicos]()<a name=\"ValReLog\">\n",
    "As palavras **verdadeiro** e **falso**, representam valores lógicos, significando se determinado valor de um determinado tipo (domínio), ao ser comparado a outro do mesmo tipo (domínio), é verdadeiro ou falso.\n",
    "\n",
    "Esses valores são também chamados de **booleanos**, em homenagem ao matemático inglês Geoge Boole (1815-1864) que definiu uma álgebra a partir da lógica.\n",
    "\n",
    "Nas linguegsn de programação os valores verdadeiro e falso, são representados pelo tipo Bool, e são escritos **True** para verdadeiro e **False** para falso. \n",
    "\n",
    "Os valores Booleanos são importantes por retornarem valores de comparações entre expressões. \n",
    "\n",
    "Para comparar valores booleanos, precisamos de operadores específicos chamados de relacionais.\n",
    "\n",
    "Abaixo, mostramos os operadores, seu significado e o resultado da operação:\n",
    "\n",
    "\n",
    "|Operador|Descrição|Sintaxe|Resultado|\n",
    "|--------|---------|-------|---------|\n",
    "|>|maior|A > B|retorna True se o valor de A for maior que o de B senão retorna False|\n",
    "|<|menor|A < B|retorna True se o valor de A for menor que o de B senão retorna False|\n",
    "|==|igual|A == B|retorna True se o valor de A for igual ao de B senão retorna False|\n",
    "|>=|maior ou igual|A >= B|retorna True se o valor de A for maior ou igual ao de B senão retorna False|\n",
    "|<=|menor ou igual|A <= B|retorna True se o valor de A for menor ou igual ao de B senão retorna False|\n",
    "|/=|diferente|A /= B|retorna True se o valor de A for diferente do valor de B senão retorna False|\n",
    "\n",
    "\n",
    "\n",
    "#### Operadores\n",
    "Os valores booleanos podem ser combinados usando operadores lógicos. Esses operadores servem para combinar determinadas comparações de valores lógicos.\n",
    "\n",
    "Os operadores são:\n",
    "```\n",
    "    ||      (ou),\n",
    "    &&      (e),\n",
    "    not     (não).\n",
    "```\n",
    "Abaixo mostramos uma tabela de como os operadores funcionam com valores lógicos.\n",
    "\n",
    "|Sintaxe|Descrição|Resultado|\n",
    "|-------|---------|---------|\n",
    "|A || B|A ou B|retorna True se A ou B tiver o valor True|\n",
    "|A && B|A e B|retorna True se A e B tiverem o valor True|\n",
    "|not A|não A|retorna True se A tiver o valor False|\n",
    "\n",
    "As possíveis combinações dos valores lógicos A e B , leva a construção da tabela verdade .\n",
    "\n",
    "#### Expressões Lógicas\n",
    "\n",
    "Podemos ver as expressões lógicas, como expressões que geram valores lógicos. Teste os exemplos:\n",
    "\n"
   ]
  },
  {
   "cell_type": "code",
   "execution_count": 47,
   "metadata": {},
   "outputs": [
    {
     "data": {
      "text/plain": [
       "True"
      ]
     },
     "metadata": {},
     "output_type": "display_data"
    }
   ],
   "source": [
    "1 <  2  &&  2 < 3   "
   ]
  },
  {
   "cell_type": "code",
   "execution_count": 48,
   "metadata": {},
   "outputs": [
    {
     "data": {
      "text/plain": [
       "False"
      ]
     },
     "metadata": {},
     "output_type": "display_data"
    }
   ],
   "source": [
    "not (1 < 2)"
   ]
  },
  {
   "cell_type": "code",
   "execution_count": 49,
   "metadata": {},
   "outputs": [
    {
     "data": {
      "text/plain": [
       "False"
      ]
     },
     "metadata": {},
     "output_type": "display_data"
    }
   ],
   "source": [
    "3 < 2  &&  (2 < 3 || 1 == 2)"
   ]
  },
  {
   "cell_type": "markdown",
   "metadata": {},
   "source": [
    "O operador **not** (não) tem prioridade maior do que **&&** (e).\n",
    "\n",
    "O operador **&&** (e) tem prioridade maior que **||** (ou).\n",
    "\n",
    "Quando as operações lógicas possuírem a mesma prioridade, serão executadas da esquerda para a direita.\n",
    "\n",
    "É uma boa prática colocar parenteses quando houver operadores da mesma prioridade.\n",
    "\n",
    "#### Tuplas de Valores Lógicos e Números\n",
    "Como visto em tuplas de inteiros e tuplas de reais, as tuplas podem possuir valores de diferentes tipos, sendo chamadas de **polimórficas**.\n",
    "\n",
    "Acrescentamos mais um tipo na construção de tuplas, uma tupla com valores booleanos, **(Bool,Bool)**, que podem assumir True ou False. \n",
    "\n",
    "Abaixo mostramos operações que podem ser efetuadas com pares de valores com os tipos conhecidos."
   ]
  },
  {
   "cell_type": "code",
   "execution_count": 55,
   "metadata": {},
   "outputs": [
    {
     "data": {
      "text/plain": [
       "(6,4.0)"
      ]
     },
     "metadata": {},
     "output_type": "display_data"
    }
   ],
   "source": [
    "(4+2,4.0)"
   ]
  },
  {
   "cell_type": "code",
   "execution_count": 56,
   "metadata": {},
   "outputs": [
    {
     "data": {
      "text/plain": [
       "False"
      ]
     },
     "metadata": {},
     "output_type": "display_data"
    }
   ],
   "source": [
    "(3,4) == (4,3)"
   ]
  },
  {
   "cell_type": "code",
   "execution_count": 57,
   "metadata": {},
   "outputs": [
    {
     "data": {
      "text/plain": [
       "True"
      ]
     },
     "metadata": {},
     "output_type": "display_data"
    }
   ],
   "source": [
    "(3,6) < (4,2)"
   ]
  },
  {
   "cell_type": "markdown",
   "metadata": {},
   "source": [
    "Exemplo da definição de uma função usando operadores lógicos. A função compara o valor de um número real com a constante pi."
   ]
  },
  {
   "cell_type": "code",
   "execution_count": 51,
   "metadata": {},
   "outputs": [],
   "source": [
    "igualPi x = x == const\n",
    "        where const = 3.14\n"
   ]
  },
  {
   "cell_type": "code",
   "execution_count": 54,
   "metadata": {},
   "outputs": [
    {
     "data": {
      "text/plain": [
       "False"
      ]
     },
     "metadata": {},
     "output_type": "display_data"
    }
   ],
   "source": [
    "igualPi 3.15"
   ]
  },
  {
   "cell_type": "code",
   "execution_count": null,
   "metadata": {},
   "outputs": [],
   "source": []
  }
 ],
 "metadata": {
  "kernelspec": {
   "display_name": "Haskell",
   "language": "haskell",
   "name": "haskell"
  },
  "language_info": {
   "codemirror_mode": "ihaskell",
   "file_extension": ".hs",
   "name": "haskell",
   "pygments_lexer": "Haskell",
   "version": "3.7.7-final"
  }
 },
 "nbformat": 4,
 "nbformat_minor": 2
}
